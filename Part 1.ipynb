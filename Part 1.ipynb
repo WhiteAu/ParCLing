{
 "metadata": {
  "name": "Part 1"
 },
 "nbformat": 3,
 "nbformat_minor": 0,
 "worksheets": [
  {
   "cells": [
    {
     "cell_type": "code",
     "collapsed": false,
     "input": [
      "from grammar import *\n",
      "from parser import *\n",
      "from util2 import *"
     ],
     "language": "python",
     "metadata": {},
     "outputs": [],
     "prompt_number": 1
    },
    {
     "cell_type": "markdown",
     "metadata": {},
     "source": [
      "The given PCFG:"
     ]
    },
    {
     "cell_type": "code",
     "collapsed": false,
     "input": [
      "print str(timeFliesPCFG)"
     ],
     "language": "python",
     "metadata": {},
     "outputs": [
      {
       "output_type": "stream",
       "stream": "stdout",
       "text": [
        "Noun => flies\t| 0.4\n",
        "Noun => arrow\t| 0.4\n",
        "Noun => time\t| 0.2\n",
        "TOP => S\t| 1.0\n",
        "Det => an\t| 1.0\n",
        "VP => Verb NP\t| 0.6\n",
        "VP => Verb PP\t| 0.2\n",
        "VP => Verb\t| 0.1\n",
        "VP => Verb NP_PP\t| 0.1\n",
        "S => VP\t| 0.2\n",
        "S => NP VP\t| 0.5\n",
        "S => VP PP\t| 0.1\n",
        "S => NP VP_PP\t| 0.2\n",
        "VP_PP => VP PP\t| 1.0\n",
        "NP_PP => NP PP\t| 1.0\n",
        "Prep => like\t| 1.0\n",
        "PP => Prep NP\t| 1.0\n",
        "Verb => flies\t| 0.5\n",
        "Verb => like\t| 0.2\n",
        "Verb => time\t| 0.3\n",
        "NP => Det Noun\t| 0.7\n",
        "NP => Noun\t| 0.3\n",
        "\n"
       ]
      }
     ],
     "prompt_number": 2
    },
    {
     "cell_type": "markdown",
     "metadata": {},
     "source": [
      "The sentence we wish to parse:"
     ]
    },
    {
     "cell_type": "code",
     "collapsed": false,
     "input": [
      "print timeFliesSent"
     ],
     "language": "python",
     "metadata": {},
     "outputs": [
      {
       "output_type": "stream",
       "stream": "stdout",
       "text": [
        "['time', 'flies', 'like', 'an', 'arrow']\n"
       ]
      }
     ],
     "prompt_number": 3
    },
    {
     "cell_type": "markdown",
     "metadata": {},
     "source": [
      "Expected output:"
     ]
    },
    {
     "cell_type": "raw",
     "metadata": {},
     "source": [
      "(TOP: \n",
      "    (S: \n",
      "        (NP: (Noun: 'time')) \n",
      "        (VP: \n",
      "            (Verb: 'flies') \n",
      "            (PP: (Prep: 'like') (NP: (Det: 'an') (Noun: 'arrow'))))))"
     ]
    },
    {
     "cell_type": "markdown",
     "metadata": {},
     "source": [
      "Actual output:"
     ]
    },
    {
     "cell_type": "code",
     "collapsed": false,
     "input": [
      "print parse(timeFliesPCFG, timeFliesSent)"
     ],
     "language": "python",
     "metadata": {},
     "outputs": [
      {
       "output_type": "stream",
       "stream": "stdout",
       "text": [
        "(TOP:\n",
        "  (S:\n",
        "    (NP: (Noun: 'time'))\n",
        "    (VP:\n",
        "      (Verb: 'flies')\n",
        "      (PP: (Prep: 'like') (NP: (Det: 'an') (Noun: 'arrow'))))))\n"
       ]
      }
     ],
     "prompt_number": 4
    },
    {
     "cell_type": "markdown",
     "metadata": {},
     "source": [
      "The chart produced:"
     ]
    },
    {
     "cell_type": "code",
     "collapsed": false,
     "input": [
      "chart = cky(timeFliesPCFG, timeFliesSent, pruningPercent=None)\n",
      "printChart(chart,timeFliesSent,columnWidth=10, printBackPointers=False)"
     ],
     "language": "python",
     "metadata": {},
     "outputs": [
      {
       "output_type": "stream",
       "stream": "stdout",
       "text": [
        "row0________________________________________________________\n",
        "          1\n",
        "          Noun\n",
        "          TOP\n",
        "          VP \n",
        "          S  \n",
        "          Verb\n",
        "          time\n",
        "          NP \n",
        "                    2\n",
        "                    VP \n",
        "                    S  \n",
        "                    TOP\n",
        "                              3\n",
        "                                        4\n",
        "                                                  5\n",
        "                                                  VP \n",
        "                                                  S  \n",
        "                                                  VP_PP\n",
        "                                                  TOP\n",
        "row1________________________________________________________\n",
        "          1\n",
        "                    2\n",
        "                    flies\n",
        "                    Noun\n",
        "                    TOP\n",
        "                    VP \n",
        "                    S  \n",
        "                    Verb\n",
        "                    NP \n",
        "                              3\n",
        "                              S  \n",
        "                                        4\n",
        "                                                  5\n",
        "                                                  VP \n",
        "                                                  NP_PP\n",
        "                                                  S  \n",
        "                                                  VP_PP\n",
        "row2________________________________________________________\n",
        "          1\n",
        "                    2\n",
        "                              3\n",
        "                              like\n",
        "                              TOP\n",
        "                              VP \n",
        "                              S  \n",
        "                              Verb\n",
        "                              Prep\n",
        "                                        4\n",
        "                                                  5\n",
        "                                                  VP \n",
        "                                                  PP \n",
        "row3________________________________________________________\n",
        "          1\n",
        "                    2\n",
        "                              3\n",
        "                                        4\n",
        "                                        Det\n",
        "                                        an \n",
        "                                                  5\n",
        "                                                  NP \n",
        "row4________________________________________________________\n",
        "          1\n",
        "                    2\n",
        "                              3\n",
        "                                        4\n",
        "                                                  5\n",
        "                                                  NP \n",
        "                                                  Noun\n",
        "                                                  arrow\n"
       ]
      }
     ],
     "prompt_number": 8
    },
    {
     "cell_type": "code",
     "collapsed": false,
     "input": [
      "printChart(chart,timeFliesSent,columnWidth=20, printBackPointers=True)"
     ],
     "language": "python",
     "metadata": {},
     "outputs": [
      {
       "output_type": "stream",
       "stream": "stdout",
       "text": [
        "row0____________________________________________________________________________________________________________________\n",
        "                    1\n",
        "                    Noun  time[0:1]None  \n",
        "                    TOP   S[0:1]None  \n",
        "                    VP    Verb[0:1]None  \n",
        "                    S     VP[0:1]None  \n",
        "                    Verb  time[0:1]None  \n",
        "                    time  None  None  \n",
        "                    NP    Noun[0:1]None  \n",
        "                                        2\n",
        "                                        VP    Verb[0:1]NP[1:2]\n",
        "                                        S     VP[0:2]None  \n",
        "                                        TOP   S[0:2]None  \n",
        "                                                            3\n",
        "                                                                                4\n",
        "                                                                                                    5\n",
        "                                                                                                    VP    Verb[0:1]NP_PP[1:5]\n",
        "                                                                                                    S     NP[0:1]VP[1:5]\n",
        "                                                                                                    VP_PP VP[0:2]PP[2:5]\n",
        "                                                                                                    TOP   S[0:5]None  \n",
        "row1____________________________________________________________________________________________________________________\n",
        "                    1\n",
        "                                        2\n",
        "                                        flies None  None  \n",
        "                                        Noun  flies[1:2]None  \n",
        "                                        TOP   S[1:2]None  \n",
        "                                        VP    Verb[1:2]None  \n",
        "                                        S     VP[1:2]None  \n",
        "                                        Verb  flies[1:2]None  \n",
        "                                        NP    Noun[1:2]None  \n",
        "                                                            3\n",
        "                                                            S     NP[1:2]VP[2:3]\n",
        "                                                                                4\n",
        "                                                                                                    5\n",
        "                                                                                                    VP    Verb[1:2]PP[2:5]\n",
        "                                                                                                    NP_PP NP[1:2]PP[2:5]\n",
        "                                                                                                    S     NP[1:2]VP[2:5]\n",
        "                                                                                                    VP_PP VP[1:2]PP[2:5]\n",
        "row2____________________________________________________________________________________________________________________\n",
        "                    1\n",
        "                                        2\n",
        "                                                            3\n",
        "                                                            like  None  None  \n",
        "                                                            TOP   S[2:3]None  \n",
        "                                                            VP    Verb[2:3]None  \n",
        "                                                            S     VP[2:3]None  \n",
        "                                                            Verb  like[2:3]None  \n",
        "                                                            Prep  like[2:3]None  \n",
        "                                                                                4\n",
        "                                                                                                    5\n",
        "                                                                                                    VP    Verb[2:3]NP[3:5]\n",
        "                                                                                                    PP    Prep[2:3]NP[3:5]\n",
        "row3____________________________________________________________________________________________________________________\n",
        "                    1\n",
        "                                        2\n",
        "                                                            3\n",
        "                                                                                4\n",
        "                                                                                Det   an[3:4]None  \n",
        "                                                                                an    None  None  \n",
        "                                                                                                    5\n",
        "                                                                                                    NP    Det[3:4]Noun[4:5]\n",
        "row4____________________________________________________________________________________________________________________\n",
        "                    1\n",
        "                                        2\n",
        "                                                            3\n",
        "                                                                                4\n",
        "                                                                                                    5\n",
        "                                                                                                    NP    Noun[4:5]None  \n",
        "                                                                                                    Noun  arrow[4:5]None  \n",
        "                                                                                                    arrow None  None  \n"
       ]
      }
     ],
     "prompt_number": 10
    },
    {
     "cell_type": "code",
     "collapsed": false,
     "input": [],
     "language": "python",
     "metadata": {},
     "outputs": []
    }
   ],
   "metadata": {}
  }
 ]
}