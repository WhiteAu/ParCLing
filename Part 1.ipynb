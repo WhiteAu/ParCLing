{
 "metadata": {
  "name": "Part 1"
 },
 "nbformat": 3,
 "nbformat_minor": 0,
 "worksheets": [
  {
   "cells": [
    {
     "cell_type": "code",
     "collapsed": false,
     "input": [
      "from grammar import *\n",
      "from parser import *\n",
      "from util2 import *"
     ],
     "language": "python",
     "metadata": {},
     "outputs": [],
     "prompt_number": 1
    },
    {
     "cell_type": "markdown",
     "metadata": {},
     "source": [
      "The given PCFG:"
     ]
    },
    {
     "cell_type": "code",
     "collapsed": false,
     "input": [
      "print str(timeFliesPCFG)"
     ],
     "language": "python",
     "metadata": {},
     "outputs": [
      {
       "output_type": "stream",
       "stream": "stdout",
       "text": [
        "Noun => flies\t| 0.4\n",
        "Noun => arrow\t| 0.4\n",
        "Noun => time\t| 0.2\n",
        "TOP => S\t| 1.0\n",
        "Det => an\t| 1.0\n",
        "VP => Verb NP\t| 0.6\n",
        "VP => Verb PP\t| 0.2\n",
        "VP => Verb\t| 0.1\n",
        "VP => Verb NP_PP\t| 0.1\n",
        "S => VP\t| 0.2\n",
        "S => NP VP\t| 0.5\n",
        "S => VP PP\t| 0.1\n",
        "S => NP VP_PP\t| 0.2\n",
        "VP_PP => VP PP\t| 1.0\n",
        "NP_PP => NP PP\t| 1.0\n",
        "Prep => like\t| 1.0\n",
        "PP => Prep NP\t| 1.0\n",
        "Verb => flies\t| 0.5\n",
        "Verb => like\t| 0.2\n",
        "Verb => time\t| 0.3\n",
        "NP => Det Noun\t| 0.7\n",
        "NP => Noun\t| 0.3\n",
        "\n"
       ]
      }
     ],
     "prompt_number": 2
    },
    {
     "cell_type": "markdown",
     "metadata": {},
     "source": [
      "The sentence we wish to parse:"
     ]
    },
    {
     "cell_type": "code",
     "collapsed": false,
     "input": [
      "print timeFliesSent"
     ],
     "language": "python",
     "metadata": {},
     "outputs": [
      {
       "output_type": "stream",
       "stream": "stdout",
       "text": [
        "['time', 'flies', 'like', 'an', 'arrow']\n"
       ]
      }
     ],
     "prompt_number": 3
    },
    {
     "cell_type": "markdown",
     "metadata": {},
     "source": [
      "Expected output:"
     ]
    },
    {
     "cell_type": "raw",
     "metadata": {},
     "source": [
      "(TOP: \n",
      "    (S: \n",
      "        (NP: (Noun: 'time')) \n",
      "        (VP: \n",
      "            (Verb: 'flies') \n",
      "            (PP: (Prep: 'like') (NP: (Det: 'an') (Noun: 'arrow'))))))"
     ]
    },
    {
     "cell_type": "markdown",
     "metadata": {},
     "source": [
      "Actual output:"
     ]
    },
    {
     "cell_type": "code",
     "collapsed": false,
     "input": [
      "print parse(timeFliesPCFG, timeFliesSent)"
     ],
     "language": "python",
     "metadata": {},
     "outputs": [
      {
       "output_type": "stream",
       "stream": "stdout",
       "text": [
        "(TOP:\n",
        "  (S:\n",
        "    (NP: (Noun: 'time'))\n",
        "    (VP:\n",
        "      (Verb: 'flies')\n",
        "      (PP: (Prep: 'like') (NP: (Det: 'an') (Noun: 'arrow'))))))\n"
       ]
      }
     ],
     "prompt_number": 4
    },
    {
     "cell_type": "markdown",
     "metadata": {},
     "source": [
      "The chart produced:"
     ]
    },
    {
     "cell_type": "code",
     "collapsed": false,
     "input": [
      "chart = cky(timeFliesPCFG, timeFliesSent, pruningPercent=None)\n",
      "printChart(chart,timeFliesSent, widths=(5,11,7,3,2), printBackPointers=False, printProbs=False)"
     ],
     "language": "python",
     "metadata": {},
     "outputs": [
      {
       "output_type": "stream",
       "stream": "stdout",
       "text": [
        "row0__________________________\n",
        "1\n",
        " Noun  \n",
        " TOP   \n",
        " VP    \n",
        " S     \n",
        " Verb  \n",
        " time  \n",
        " NP    \n",
        "     2\n",
        "      VP    \n",
        "      S     \n",
        "      TOP   \n",
        "          3\n",
        "               4\n",
        "                    5\n",
        "                     VP    \n",
        "                     S     \n",
        "                     VP_PP \n",
        "                     TOP   \n",
        "row1__________________________\n",
        "1\n",
        "     2\n",
        "      flies \n",
        "      Noun  \n",
        "      TOP   \n",
        "      VP    \n",
        "      S     \n",
        "      Verb  \n",
        "      NP    \n",
        "          3\n",
        "           S     \n",
        "           TOP   \n",
        "               4\n",
        "                    5\n",
        "                     VP    \n",
        "                     NP_PP \n",
        "                     S     \n",
        "                     VP_PP \n",
        "                     TOP   \n",
        "row2__________________________\n",
        "1\n",
        "     2\n",
        "          3\n",
        "           like  \n",
        "           TOP   \n",
        "           VP    \n",
        "           S     \n",
        "           Verb  \n",
        "           Prep  \n",
        "               4\n",
        "                    5\n",
        "                     VP    \n",
        "                     PP    \n",
        "                     S     \n",
        "row3__________________________\n",
        "1\n",
        "     2\n",
        "          3\n",
        "               4\n",
        "                Det   \n",
        "                an    \n",
        "                    5\n",
        "                     NP    \n",
        "row4__________________________\n",
        "1\n",
        "     2\n",
        "          3\n",
        "               4\n",
        "                    5\n",
        "                     NP    \n",
        "                     Noun  \n",
        "                     arrow \n",
        "______________________________\n"
       ]
      }
     ],
     "prompt_number": 5
    },
    {
     "cell_type": "code",
     "collapsed": false,
     "input": [
      "printChart(chart,timeFliesSent, widths=(5,11,7,3,2), printBackPointers=True)"
     ],
     "language": "python",
     "metadata": {},
     "outputs": [
      {
       "output_type": "stream",
       "stream": "stdout",
       "text": [
        "row0____________________________________________________________________________________________________________________________________________________________________\n",
        "1\n",
        " Noun  time[0:1]  None    -1.61 \n",
        " TOP   S[0:1]     None    -5.12 \n",
        " VP    Verb[0:1]  None    -3.51 \n",
        " S     VP[0:1]    None    -5.12 \n",
        " Verb  time[0:1]  None    -1.20 \n",
        " time  None       None    0.00 \n",
        " NP    Noun[0:1]  None    -2.81 \n",
        "                            2\n",
        "                             VP    Verb[0:1]  NP[1:2] -3.84 \n",
        "                             S     VP[0:2]    None    -5.44 \n",
        "                             TOP   S[0:2]     None    -6.50 \n",
        "                                                        3\n",
        "                                                                                    4\n",
        "                                                                                                                5\n",
        "                                                                                                                 VP    Verb[0:1]  NP_PP[1:5] -6.90 \n",
        "                                                                                                                 S     NP[0:1]    VP[1:5] -7.08 \n",
        "                                                                                                                 VP_PP VP[0:2]    PP[2:5] -5.11 \n",
        "                                                                                                                 TOP   S[0:5]     None    -7.08 \n",
        "row1____________________________________________________________________________________________________________________________________________________________________\n",
        "1\n",
        "                            2\n",
        "                             flies None       None    0.00 \n",
        "                             Noun  flies[1:2] None    -0.92 \n",
        "                             TOP   S[1:2]     None    -4.61 \n",
        "                             VP    Verb[1:2]  None    -3.00 \n",
        "                             S     VP[1:2]    None    -4.61 \n",
        "                             Verb  flies[1:2] None    -0.69 \n",
        "                             NP    Noun[1:2]  None    -2.12 \n",
        "                                                        3\n",
        "                                                         S     NP[1:2]    VP[2:3] -6.73 \n",
        "                                                         TOP   S[1:3]     None    -6.73 \n",
        "                                                                                    4\n",
        "                                                                                                                5\n",
        "                                                                                                                 VP    Verb[1:2]  PP[2:5] -3.58 \n",
        "                                                                                                                 NP_PP NP[1:2]    PP[2:5] -3.39 \n",
        "                                                                                                                 S     VP[1:5]    None    -5.18 \n",
        "                                                                                                                 VP_PP VP[1:2]    PP[2:5] -4.27 \n",
        "                                                                                                                 TOP   S[1:5]     None    -6.21 \n",
        "row2____________________________________________________________________________________________________________________________________________________________________\n",
        "1\n",
        "                            2\n",
        "                                                        3\n",
        "                                                         like  None       None    0.00 \n",
        "                                                         TOP   S[2:3]     None    -5.52 \n",
        "                                                         VP    Verb[2:3]  None    -3.91 \n",
        "                                                         S     VP[2:3]    None    -5.52 \n",
        "                                                         Verb  like[2:3]  None    -1.61 \n",
        "                                                         Prep  like[2:3]  None    0.00 \n",
        "                                                                                    4\n",
        "                                                                                                                5\n",
        "                                                                                                                 VP    Verb[2:3]  NP[3:5] -3.39 \n",
        "                                                                                                                 PP    Prep[2:3]  NP[3:5] -1.27 \n",
        "                                                                                                                 S     VP[2:5]    None    -5.00 \n",
        "row3____________________________________________________________________________________________________________________________________________________________________\n",
        "1\n",
        "                            2\n",
        "                                                        3\n",
        "                                                                                    4\n",
        "                                                                                     Det   an[3:4]    None    0.00 \n",
        "                                                                                     an    None       None    0.00 \n",
        "                                                                                                                5\n",
        "                                                                                                                 NP    Det[3:4]   Noun[4:5] -1.27 \n",
        "row4____________________________________________________________________________________________________________________________________________________________________\n",
        "1\n",
        "                            2\n",
        "                                                        3\n",
        "                                                                                    4\n",
        "                                                                                                                5\n",
        "                                                                                                                 NP    Noun[4:5]  None    -2.12 \n",
        "                                                                                                                 Noun  arrow[4:5] None    -0.92 \n",
        "                                                                                                                 arrow None       None    0.00 \n",
        "________________________________________________________________________________________________________________________________________________________________________\n"
       ]
      }
     ],
     "prompt_number": 6
    }
   ],
   "metadata": {}
  }
 ]
}