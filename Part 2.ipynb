{
 "metadata": {
  "name": "Part 2"
 },
 "nbformat": 3,
 "nbformat_minor": 0,
 "worksheets": [
  {
   "cells": [
    {
     "cell_type": "code",
     "collapsed": true,
     "input": [
      "from grammar import *\n",
      "from parser import *\n",
      "from util2 import *"
     ],
     "language": "python",
     "metadata": {},
     "outputs": [],
     "prompt_number": 1
    },
    {
     "cell_type": "markdown",
     "metadata": {},
     "source": [
      "The current grammar:"
     ]
    },
    {
     "cell_type": "code",
     "collapsed": false,
     "input": [
      "print str(timeFliesPCFG2)"
     ],
     "language": "python",
     "metadata": {},
     "outputs": [
      {
       "output_type": "stream",
       "stream": "stdout",
       "text": [
        "Noun => flies\t| 0.5\n",
        "Noun => arrow\t| 0.4\n",
        "Noun => time\t| 0.1\n",
        "TOP => S\t| 1.0\n",
        "Det => an\t| 1.0\n",
        "VP => Verb NP\t| 0.1\n",
        "VP => Verb PP\t| 0.1\n",
        "VP => Verb\t| 0.1\n",
        "VP => Verb NP_PP\t| 0.7\n",
        "S => VP\t| 0.7\n",
        "S => NP VP\t| 0.1\n",
        "S => VP PP\t| 0.1\n",
        "S => NP VP_PP\t| 0.1\n",
        "VP_PP => VP PP\t| 1.0\n",
        "NP_PP => NP PP\t| 1.0\n",
        "Prep => like\t| 1.0\n",
        "PP => Prep NP\t| 1.0\n",
        "Verb => flies\t| 0.4\n",
        "Verb => like\t| 0.2\n",
        "Verb => time\t| 0.4\n",
        "NP => Det Noun\t| 0.7\n",
        "NP => Noun\t| 0.3\n",
        "\n"
       ]
      }
     ],
     "prompt_number": 2
    },
    {
     "cell_type": "markdown",
     "metadata": {},
     "source": [
      "Just the unary rules:"
     ]
    },
    {
     "cell_type": "code",
     "collapsed": false,
     "input": [
      "for lhs in timeFliesPCFG2.pcfgC.iterkeys():\n",
      "    for rhs,count in timeFliesPCFG2.pcfgC[lhs].iteritems():\n",
      "        rule = Rule(lhs,rhs)\n",
      "        if rule.isUnary:\n",
      "            print rule"
     ],
     "language": "python",
     "metadata": {},
     "outputs": [
      {
       "output_type": "stream",
       "stream": "stdout",
       "text": [
        "Noun => flies\n",
        "Noun => arrow\n",
        "Noun => time\n",
        "TOP => S\n",
        "Det => an\n",
        "VP => Verb\n",
        "S => VP\n",
        "Prep => like\n",
        "Verb => flies\n",
        "Verb => like\n",
        "Verb => time\n",
        "NP => Noun\n"
       ]
      }
     ],
     "prompt_number": 3
    },
    {
     "cell_type": "markdown",
     "metadata": {},
     "source": [
      "Chart on a simple example:"
     ]
    },
    {
     "cell_type": "code",
     "collapsed": false,
     "input": [
      "simpleSent = ['time','flies']\n",
      "chart = cky(timeFliesPCFG2, simpleSent, pruningPercent=None)\n",
      "printChart(chart, simpleSent, columnWidth=30, printBackPointers=True)\n",
      "print parse(timeFliesPCFG2, simpleSent)"
     ],
     "language": "python",
     "metadata": {},
     "outputs": [
      {
       "output_type": "stream",
       "stream": "stdout",
       "text": [
        "row0______________________________________________________________________________________\n",
        "                              1\n",
        "                              Noun      time[0:1] None      \n",
        "                              TOP       S[0:1]    None      \n",
        "                              VP        Verb[0:1] None      \n",
        "                              S         VP[0:1]   None      \n",
        "                              Verb      time[0:1] None      \n",
        "                              time      None      None      \n",
        "                              NP        Noun[0:1] None      \n",
        "                                                            2\n",
        "                                                            VP        Verb[0:1] NP[1:2]   \n",
        "                                                            S         VP[0:2]   None      \n",
        "                                                            TOP       S[0:2]    None      \n",
        "row1______________________________________________________________________________________\n",
        "                              1\n",
        "                                                            2\n",
        "                                                            flies     None      None      \n",
        "                                                            Noun      flies[1:2]None      \n",
        "                                                            TOP       S[1:2]    None      \n",
        "                                                            VP        Verb[1:2] None      \n",
        "                                                            S         VP[1:2]   None      \n",
        "                                                            Verb      flies[1:2]None      \n",
        "                                                            NP        Noun[1:2] None      \n",
        "(TOP: (S: (NP: (Noun: 'time')) (VP: (Verb: 'flies'))))\n"
       ]
      }
     ],
     "prompt_number": 9
    },
    {
     "cell_type": "markdown",
     "metadata": {},
     "source": [
      "Desired final output:"
     ]
    },
    {
     "cell_type": "code",
     "collapsed": false,
     "input": [
      "print desiredTimeFliesParse"
     ],
     "language": "python",
     "metadata": {},
     "outputs": [
      {
       "output_type": "stream",
       "stream": "stdout",
       "text": [
        "(TOP:\n",
        "  (S:\n",
        "    (VP:\n",
        "      (Verb: 'time')\n",
        "      (NP: (Noun: 'flies'))\n",
        "      (PP: (Prep: 'like') (NP: (Det: 'an') (Noun: 'arrow'))))))\n"
       ]
      }
     ],
     "prompt_number": 5
    },
    {
     "cell_type": "markdown",
     "metadata": {},
     "source": [
      "Actual output:"
     ]
    },
    {
     "cell_type": "code",
     "collapsed": false,
     "input": [
      "myTree = parse(timeFliesPCFG2, timeFliesSent)\n",
      "print myTree\n",
      "print evaluate(desiredTimeFliesParse, myTree)"
     ],
     "language": "python",
     "metadata": {},
     "outputs": [
      {
       "output_type": "stream",
       "stream": "stdout",
       "text": [
        "(TOP:\n",
        "  (S:\n",
        "    (VP: (Verb: 'time') (NP: (Noun: 'flies')))\n",
        "    (PP: (Prep: 'like') (NP: (Det: 'an') (Noun: 'arrow')))))\n",
        "0.9375\n"
       ]
      }
     ],
     "prompt_number": 6
    },
    {
     "cell_type": "code",
     "collapsed": false,
     "input": [],
     "language": "python",
     "metadata": {},
     "outputs": [],
     "prompt_number": 6
    }
   ],
   "metadata": {}
  }
 ]
}