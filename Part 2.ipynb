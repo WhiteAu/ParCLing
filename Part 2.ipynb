{
 "metadata": {
  "name": "Part 2"
 },
 "nbformat": 3,
 "nbformat_minor": 0,
 "worksheets": [
  {
   "cells": [
    {
     "cell_type": "code",
     "collapsed": true,
     "input": [
      "from grammar import *\n",
      "from parser import *\n",
      "from util2 import *"
     ],
     "language": "python",
     "metadata": {},
     "outputs": [],
     "prompt_number": 1
    },
    {
     "cell_type": "markdown",
     "metadata": {},
     "source": [
      "The current grammar:"
     ]
    },
    {
     "cell_type": "code",
     "collapsed": false,
     "input": [
      "print str(timeFliesPCFG2)"
     ],
     "language": "python",
     "metadata": {},
     "outputs": [
      {
       "output_type": "stream",
       "stream": "stdout",
       "text": [
        "Noun => flies\t| 0.5\n",
        "Noun => arrow\t| 0.4\n",
        "Noun => time\t| 0.1\n",
        "TOP => S\t| 1.0\n",
        "Det => an\t| 1.0\n",
        "VP => Verb NP\t| 0.1\n",
        "VP => Verb PP\t| 0.1\n",
        "VP => Verb\t| 0.1\n",
        "VP => Verb NP_PP\t| 0.7\n",
        "S => VP\t| 0.7\n",
        "S => NP VP\t| 0.1\n",
        "S => VP PP\t| 0.1\n",
        "S => NP VP_PP\t| 0.1\n",
        "VP_PP => VP PP\t| 1.0\n",
        "NP_PP => NP PP\t| 1.0\n",
        "Prep => like\t| 1.0\n",
        "PP => Prep NP\t| 1.0\n",
        "Verb => flies\t| 0.4\n",
        "Verb => like\t| 0.2\n",
        "Verb => time\t| 0.4\n",
        "NP => Det Noun\t| 0.7\n",
        "NP => Noun\t| 0.3\n",
        "\n"
       ]
      }
     ],
     "prompt_number": 2
    },
    {
     "cell_type": "markdown",
     "metadata": {},
     "source": [
      "Just the unary rules:"
     ]
    },
    {
     "cell_type": "code",
     "collapsed": false,
     "input": [
      "for lhs in timeFliesPCFG2.pcfgC.iterkeys():\n",
      "    for rhs,count in timeFliesPCFG2.pcfgC[lhs].iteritems():\n",
      "        rule = Rule(lhs,rhs)\n",
      "        if rule.isUnary:\n",
      "            print rule"
     ],
     "language": "python",
     "metadata": {},
     "outputs": [
      {
       "output_type": "stream",
       "stream": "stdout",
       "text": [
        "Noun => flies\n",
        "Noun => arrow\n",
        "Noun => time\n",
        "TOP => S\n",
        "Det => an\n",
        "VP => Verb\n",
        "S => VP\n",
        "Prep => like\n",
        "Verb => flies\n",
        "Verb => like\n",
        "Verb => time\n",
        "NP => Noun\n"
       ]
      }
     ],
     "prompt_number": 3
    },
    {
     "cell_type": "markdown",
     "metadata": {},
     "source": [
      "Chart on a simple example:"
     ]
    },
    {
     "cell_type": "code",
     "collapsed": false,
     "input": [
      "simpleSent = ['time','flies']\n",
      "chart = cky(timeFliesPCFG2, simpleSent, pruningPercent=None)\n",
      "printChart(chart, simpleSent, widths=(5,11,7,3,2), printBackPointers=True, printProbs=True)\n",
      "print parse(timeFliesPCFG2, simpleSent)"
     ],
     "language": "python",
     "metadata": {},
     "outputs": [
      {
       "output_type": "stream",
       "stream": "stdout",
       "text": [
        "row0________________________________________________________________________________\n",
        "1\n",
        " Noun  time[0:1]  None    -2.30 \n",
        " TOP   S[0:1]     None    -3.58 \n",
        " VP    Verb[0:1]  None    -3.22 \n",
        " S     VP[0:1]    None    -3.58 \n",
        " Verb  time[0:1]  None    -0.92 \n",
        " time  None       None    0.00 \n",
        " NP    Noun[0:1]  None    -3.51 \n",
        "                            2\n",
        "                             VP    Verb[0:1]  NP[1:2] -5.12 \n",
        "                             S     VP[0:2]    None    -5.47 \n",
        "                             TOP   S[0:2]     None    -9.03 \n",
        "row1________________________________________________________________________________\n",
        "1\n",
        "                            2\n",
        "                             flies None       None    0.00 \n",
        "                             Noun  flies[1:2] None    -0.69 \n",
        "                             TOP   S[1:2]     None    -3.58 \n",
        "                             VP    Verb[1:2]  None    -3.22 \n",
        "                             S     VP[1:2]    None    -3.58 \n",
        "                             Verb  flies[1:2] None    -0.92 \n",
        "                             NP    Noun[1:2]  None    -1.90 \n",
        "(TOP: (S: (NP: (Noun: 'time')) (VP: (Verb: 'flies'))))\n"
       ]
      }
     ],
     "prompt_number": 4
    },
    {
     "cell_type": "markdown",
     "metadata": {},
     "source": [
      "Desired final output:"
     ]
    },
    {
     "cell_type": "code",
     "collapsed": false,
     "input": [
      "print desiredTimeFliesParse"
     ],
     "language": "python",
     "metadata": {},
     "outputs": [
      {
       "output_type": "stream",
       "stream": "stdout",
       "text": [
        "(TOP:\n",
        "  (S:\n",
        "    (VP:\n",
        "      (Verb: 'time')\n",
        "      (NP: (Noun: 'flies'))\n",
        "      (PP: (Prep: 'like') (NP: (Det: 'an') (Noun: 'arrow'))))))\n"
       ]
      }
     ],
     "prompt_number": 5
    },
    {
     "cell_type": "markdown",
     "metadata": {},
     "source": [
      "Actual output:"
     ]
    },
    {
     "cell_type": "code",
     "collapsed": false,
     "input": [
      "myTree = parse(timeFliesPCFG2, timeFliesSent)\n",
      "print myTree\n",
      "print evaluate(desiredTimeFliesParse, myTree)"
     ],
     "language": "python",
     "metadata": {},
     "outputs": [
      {
       "output_type": "stream",
       "stream": "stdout",
       "text": [
        "(TOP:\n",
        "  (S:\n",
        "    (VP: (Verb: 'time') (NP: (Noun: 'flies')))\n",
        "    (PP: (Prep: 'like') (NP: (Det: 'an') (Noun: 'arrow')))))\n",
        "0.9375\n"
       ]
      }
     ],
     "prompt_number": 6
    },
    {
     "cell_type": "markdown",
     "metadata": {},
     "source": [
      "The chart:"
     ]
    },
    {
     "cell_type": "code",
     "collapsed": false,
     "input": [
      "chart = cky(timeFliesPCFG2, timeFliesSent, pruningPercent=None)\n",
      "printChart(chart, timeFliesSent, widths=(5,11,7,1,2), printBackPointers=True, printProbs=True)"
     ],
     "language": "python",
     "metadata": {},
     "outputs": [
      {
       "output_type": "stream",
       "stream": "stdout",
       "text": [
        "row0________________________________________________________________________________________________________________________________________________________\n",
        "1\n",
        " Noun  time[0:1]  None    -2.30 \n",
        " TOP   S[0:1]     None    -3.58 \n",
        " VP    Verb[0:1]  None    -3.22 \n",
        " S     VP[0:1]    None    -3.58 \n",
        " Verb  time[0:1]  None    -0.92 \n",
        " time  None       None    0.00 \n",
        " NP    Noun[0:1]  None    -3.51 \n",
        "                          2\n",
        "                           VP    Verb[0:1]  NP[1:2] -5.12 \n",
        "                           S     VP[0:2]    None    -5.47 \n",
        "                           TOP   S[0:2]     None    -9.03 \n",
        "                                                    3\n",
        "                                                                              4\n",
        "                                                                                                        5\n",
        "                                                                                                         VP    Verb[0:1]  NP_PP[1:5] -4.44 \n",
        "                                                                                                         S     VP[0:5]    None    -4.80 \n",
        "                                                                                                         VP_PP VP[0:2]    PP[2:5] -6.39 \n",
        "                                                                                                         TOP   S[0:5]     None    -8.69 \n",
        "row1________________________________________________________________________________________________________________________________________________________\n",
        "1\n",
        "                          2\n",
        "                           flies None       None    0.00 \n",
        "                           Noun  flies[1:2] None    -0.69 \n",
        "                           TOP   S[1:2]     None    -3.58 \n",
        "                           VP    Verb[1:2]  None    -3.22 \n",
        "                           S     VP[1:2]    None    -3.58 \n",
        "                           Verb  flies[1:2] None    -0.92 \n",
        "                           NP    Noun[1:2]  None    -1.90 \n",
        "                                                    3\n",
        "                                                     S     NP[1:2]    VP[2:3] -8.11 \n",
        "                                                     TOP   S[1:3]     None    -8.11 \n",
        "                                                                              4\n",
        "                                                                                                        5\n",
        "                                                                                                         VP    Verb[1:2]  PP[2:5] -4.49 \n",
        "                                                                                                         NP_PP NP[1:2]    PP[2:5] -3.17 \n",
        "                                                                                                         S     VP[1:5]    None    -4.85 \n",
        "                                                                                                         VP_PP VP[1:2]    PP[2:5] -4.49 \n",
        "                                                                                                         TOP   S[1:5]     None    -6.79 \n",
        "row2________________________________________________________________________________________________________________________________________________________\n",
        "1\n",
        "                          2\n",
        "                                                    3\n",
        "                                                     like  None       None    0.00 \n",
        "                                                     TOP   S[2:3]     None    -4.27 \n",
        "                                                     VP    Verb[2:3]  None    -3.91 \n",
        "                                                     S     VP[2:3]    None    -4.27 \n",
        "                                                     Verb  like[2:3]  None    -1.61 \n",
        "                                                     Prep  like[2:3]  None    0.00 \n",
        "                                                                              4\n",
        "                                                                                                        5\n",
        "                                                                                                         VP    Verb[2:3]  NP[3:5] -5.18 \n",
        "                                                                                                         PP    Prep[2:3]  NP[3:5] -1.27 \n",
        "                                                                                                         S     VP[2:5]    None    -5.54 \n",
        "row3________________________________________________________________________________________________________________________________________________________\n",
        "1\n",
        "                          2\n",
        "                                                    3\n",
        "                                                                              4\n",
        "                                                                               Det   an[3:4]    None    0.00 \n",
        "                                                                               an    None       None    0.00 \n",
        "                                                                                                        5\n",
        "                                                                                                         NP    Det[3:4]   Noun[4:5] -1.27 \n",
        "row4________________________________________________________________________________________________________________________________________________________\n",
        "1\n",
        "                          2\n",
        "                                                    3\n",
        "                                                                              4\n",
        "                                                                                                        5\n",
        "                                                                                                         NP    Noun[4:5]  None    -2.12 \n",
        "                                                                                                         Noun  arrow[4:5] None    -0.92 \n",
        "                                                                                                         arrow None       None    0.00 \n"
       ]
      }
     ],
     "prompt_number": 7
    },
    {
     "cell_type": "code",
     "collapsed": false,
     "input": [],
     "language": "python",
     "metadata": {},
     "outputs": [],
     "prompt_number": 7
    }
   ],
   "metadata": {}
  }
 ]
}